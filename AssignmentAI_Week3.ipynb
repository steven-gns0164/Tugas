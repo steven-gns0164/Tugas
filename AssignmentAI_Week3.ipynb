{
  "nbformat": 4,
  "nbformat_minor": 0,
  "metadata": {
    "colab": {
      "provenance": [],
      "authorship_tag": "ABX9TyNT9+vwReyEvXZfjV0lkcwb",
      "include_colab_link": true
    },
    "kernelspec": {
      "name": "python3",
      "display_name": "Python 3"
    },
    "language_info": {
      "name": "python"
    }
  },
  "cells": [
    {
      "cell_type": "markdown",
      "metadata": {
        "id": "view-in-github",
        "colab_type": "text"
      },
      "source": [
        "<a href=\"https://colab.research.google.com/github/steven-gns0164/Tugas/blob/main/AssignmentAI_Week3.ipynb\" target=\"_parent\"><img src=\"https://colab.research.google.com/assets/colab-badge.svg\" alt=\"Open In Colab\"/></a>"
      ]
    },
    {
      "cell_type": "code",
      "execution_count": null,
      "metadata": {
        "colab": {
          "base_uri": "https://localhost:8080/"
        },
        "id": "d2B5nXLDXK7a",
        "outputId": "75c8d4f6-5ba1-4e00-8c43-1bb0aa4987a8"
      },
      "outputs": [
        {
          "output_type": "stream",
          "name": "stdout",
          "text": [
            "Jalur terpendek dari X ke Y: ['X', 'V1', 'V2', 'Y'] dengan total bobot: 10\n"
          ]
        }
      ],
      "source": [
        "import heapq\n",
        "\n",
        "def dijkstra(graph, start, goal):\n",
        "    # Inisialisasi jarak dari start ke semua node sebagai infinity, kecuali start\n",
        "    distances = {node: float('inf') for node in graph}\n",
        "    distances[start] = 0\n",
        "    # Inisialisasi antrian prioritas\n",
        "    priority_queue = [(0, start)]\n",
        "    # Melacak jalur terpendek\n",
        "    previous_nodes = {node: None for node in graph}\n",
        "\n",
        "    while priority_queue:\n",
        "        # Ambil node dengan jarak terpendek\n",
        "        current_distance, current_node = heapq.heappop(priority_queue)\n",
        "\n",
        "        # Jika sudah sampai ke tujuan\n",
        "        if current_node == goal:\n",
        "            path = []\n",
        "            while current_node:\n",
        "                path.append(current_node)\n",
        "                current_node = previous_nodes[current_node]\n",
        "            return path[::-1], distances[goal]\n",
        "\n",
        "        # Jika jarak saat ini lebih besar dari yang sudah ditemukan, lewati\n",
        "        if current_distance > distances[current_node]:\n",
        "            continue\n",
        "\n",
        "        # Periksa tetangga-tetangga jika ada\n",
        "        for neighbor, weight in graph[current_node].items():\n",
        "            distance = current_distance + weight\n",
        "            if distance < distances[neighbor]:\n",
        "                distances[neighbor] = distance\n",
        "                previous_nodes[neighbor] = current_node\n",
        "                heapq.heappush(priority_queue, (distance, neighbor))\n",
        "\n",
        "    return \"Jalur tidak ditemukan\", float('inf')\n",
        "\n",
        "# Definisi graf berdasarkan gambar dengan bobot pada setiap jalur\n",
        "graph = {\n",
        "    'X': {'V1': 2, 'V4': 4, 'V6': 3},\n",
        "    'V1': {'V2': 4},\n",
        "    'V2': {'Y': 4, 'V3': 2},\n",
        "    'V3': {'Y': 3},\n",
        "    'V4': {'V5': 5},\n",
        "    'V5': {'Y': 1},\n",
        "    'V6': {'V7': 2},\n",
        "    'V7': {'V5': 4, 'V8': 3},\n",
        "    'V5': {'Y': 1},\n",
        "    'V8': {'Y': 4},\n",
        "    'Y': {}\n",
        "}\n",
        "\n",
        "# Contoh pencarian jalur dari X ke Y\n",
        "start_node = 'X'\n",
        "goal_node = 'Y'\n",
        "path, total_weight = dijkstra(graph, start_node, goal_node)\n",
        "print(f\"Jalur terpendek dari {start_node} ke {goal_node}: {path} dengan total bobot: {total_weight}\")\n"
      ]
    },
    {
      "cell_type": "code",
      "source": [
        "import heapq\n",
        "\n",
        "def dfs(graph, start, goal, path=None, visited=None, total_weight=0):\n",
        "    if path is None:\n",
        "        path = []\n",
        "    if visited is None:\n",
        "        visited = set()\n",
        "\n",
        "    path = path + [start]\n",
        "    visited.add(start)\n",
        "\n",
        "    # Jika sudah sampai di goal, kembalikan jalur dan bobotnya\n",
        "    if start == goal:\n",
        "        return path, total_weight\n",
        "\n",
        "    # Jelajahi tetangga-tetangga yang belum dikunjungi\n",
        "    for neighbor, weight in graph[start].items():\n",
        "        if neighbor not in visited:\n",
        "            result = dfs(graph, neighbor, goal, path, visited.copy(), total_weight + weight)\n",
        "            if result is not None:\n",
        "                return result  # Mengembalikan jalur pertama yang ditemukan\n",
        "\n",
        "    return None  # Jika tidak ditemukan jalur\n",
        "\n",
        "# Definisi graf berdasarkan gambar dengan bobot pada setiap jalur\n",
        "graph = {\n",
        "    'X': {'V1': 2, 'V4': 4, 'V6': 3},\n",
        "    'V1': {'V2': 4},\n",
        "    'V2': {'Y': 4, 'V3': 2},\n",
        "    'V3': {'Y': 3},\n",
        "    'V4': {'V5': 5},\n",
        "    'V5': {'Y': 1},\n",
        "    'V6': {'V7': 2},\n",
        "    'V7': {'V5': 4, 'V8': 3},\n",
        "    'V5': {'V5': 1},\n",
        "    'V8': {'Y': 4},\n",
        "    'Y': {}\n",
        "}\n",
        "\n",
        "# Contoh pencarian jalur DFS dari X ke Y\n",
        "start_node = 'X'\n",
        "goal_node = 'Y'\n",
        "\n",
        "# Dapatkan jalur DFS dari X ke Y\n",
        "final_path, total_weight = dfs(graph, start_node, goal_node)\n",
        "\n",
        "# Output hasil\n",
        "if final_path:\n",
        "    print(f\"Jalur DFS yang ditemukan dari {start_node} ke {goal_node}: {final_path} dengan total bobot: {total_weight}\")\n",
        "else:\n",
        "    print(f\"Tidak ada jalur ditemukan dari {start_node} ke {goal_node}.\")\n"
      ],
      "metadata": {
        "colab": {
          "base_uri": "https://localhost:8080/"
        },
        "id": "tGThXrZYZyZ6",
        "outputId": "ed8fc597-42db-437b-de41-d50ec8913fed"
      },
      "execution_count": null,
      "outputs": [
        {
          "output_type": "stream",
          "name": "stdout",
          "text": [
            "Jalur DFS yang ditemukan dari X ke Y: ['X', 'V1', 'V2', 'Y'] dengan total bobot: 10\n"
          ]
        }
      ]
    },
    {
      "cell_type": "code",
      "source": [
        "import heapq\n",
        "\n",
        "def uniform_cost_search_all_paths(graph, start, goal):\n",
        "    # Inisialisasi jarak dari start ke semua node sebagai infinity, kecuali start\n",
        "    distances = {node: float('inf') for node in graph}\n",
        "    distances[start] = 0\n",
        "    # Inisialisasi antrian prioritas\n",
        "    priority_queue = [(0, start, [])]  # (distance, current_node, path)\n",
        "    # Menyimpan semua jalur dengan bobot minimum\n",
        "    all_paths = []\n",
        "    min_cost = float('inf')\n",
        "\n",
        "    while priority_queue:\n",
        "        current_distance, current_node, path = heapq.heappop(priority_queue)\n",
        "        path = path + [current_node]\n",
        "\n",
        "        # Jika sampai di goal, simpan jalur dengan bobot minimum\n",
        "        if current_node == goal:\n",
        "            if current_distance < min_cost:\n",
        "                min_cost = current_distance\n",
        "                all_paths = [path]  # Reset all_paths jika menemukan jalur baru dengan bobot lebih kecil\n",
        "            elif current_distance == min_cost:\n",
        "                all_paths.append(path)\n",
        "\n",
        "        # Periksa tetangga-tetangga jika ada\n",
        "        for neighbor, weight in graph[current_node].items():\n",
        "            distance = current_distance + weight\n",
        "            if distance <= distances[neighbor]:\n",
        "                distances[neighbor] = distance\n",
        "                heapq.heappush(priority_queue, (distance, neighbor, path))\n",
        "\n",
        "    return all_paths, min_cost\n",
        "\n",
        "# Definisi graf berdasarkan gambar dengan bobot pada setiap jalur\n",
        "graph = {\n",
        "    'X': {'V1': 2, 'V4': 4, 'V6': 3},\n",
        "    'V1': {'V2': 4},\n",
        "    'V2': {'Y': 4, 'V3': 2},\n",
        "    'V3': {'Y': 3},\n",
        "    'V4': {'V5': 5},\n",
        "    'V5': {'Y': 1},\n",
        "    'V6': {'V7': 2},\n",
        "    'V7': {'V5': 4, 'V8': 3},\n",
        "    'V5': {'Y': 1},\n",
        "    'V8': {'Y': 4},\n",
        "    'Y': {}\n",
        "}\n",
        "\n",
        "# Contoh pencarian jalur UCS dari X ke Y\n",
        "start_node = 'X'\n",
        "goal_node = 'Y'\n",
        "all_paths, total_cost = uniform_cost_search_all_paths(graph, start_node, goal_node)\n",
        "\n",
        "# Memilih jalur pertama dari hasil dengan bobot yang sama\n",
        "final_path = all_paths[0] if all_paths else None\n",
        "\n",
        "# Output hasil\n",
        "print(f\"Semua jalur dengan bobot {total_cost}: {all_paths}\")\n",
        "print(f\"Jalur UCS final yang dipilih (jalur pertama): {final_path} dengan total bobot: {total_cost}\")\n"
      ],
      "metadata": {
        "colab": {
          "base_uri": "https://localhost:8080/"
        },
        "id": "VrKi9jgxZee7",
        "outputId": "fb9fc973-80c3-41f3-8695-11fa22f7169a"
      },
      "execution_count": null,
      "outputs": [
        {
          "output_type": "stream",
          "name": "stdout",
          "text": [
            "Semua jalur dengan bobot 10: [['X', 'V1', 'V2', 'Y'], ['X', 'V4', 'V5', 'Y'], ['X', 'V6', 'V7', 'V5', 'Y']]\n",
            "Jalur UCS final yang dipilih (jalur pertama): ['X', 'V1', 'V2', 'Y'] dengan total bobot: 10\n"
          ]
        }
      ]
    }
  ]
}